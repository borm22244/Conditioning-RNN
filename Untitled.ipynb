{
 "cells": [
  {
   "cell_type": "code",
   "execution_count": 2,
   "metadata": {},
   "outputs": [],
   "source": [
    "import numpy\n",
    "import itertools, copy\n",
    "from pretty_midi import PrettyMIDI, Instrument, Note"
   ]
  },
  {
   "cell_type": "code",
   "execution_count": 54,
   "metadata": {},
   "outputs": [],
   "source": [
    "def get_midi(midi):\n",
    "    notes = itertools.chain(i.notes for i in midi.instruments)\n",
    "    return (list(notes))  \n",
    "                               \n",
    "def from_midi_file(path):\n",
    "    midi = PrettyMIDI(path)\n",
    "    return get_midi(midi)\n",
    "                                \n",
    "def merge(*note_seqs):\n",
    "    notes = itertools.chain(seq.notes for seq in note_seqs)\n",
    "    return NoteSeq(list(notes))\n",
    "                               \n",
    "def copy(self):\n",
    "    return copy.deepcopy(self)\n",
    "\n",
    "def to_midi(self):\n",
    "    midi = PrettyMIDI\n",
    "    inst = Instrument(1,False,'NoteSeq')\n",
    "    inst.notes = copy.deepcopy(self.notes)\n",
    "    midi.instruments.append(inst)\n",
    "    return midi\n",
    "\n",
    "def add_notes(self, notes):\n",
    "    self.notes += notes\n",
    "    self.notes.sort(key=lambda note: note.start)\n",
    "    \n",
    "def adjust_pitchs(self, offset):\n",
    "    for note in self.notes:\n",
    "        pitch = note.pitch + offset\n",
    "        pitch = 0 if pitch < 0 else pitch\n",
    "        pitch = 127 if pitch > 127 else pitch\n",
    "        note.pitch = pitch\n",
    "        \n",
    "def adjust_velocities(self, offset):\n",
    "        for note in self.notes:\n",
    "            velocity = note.velocity + offset\n",
    "            velocity = 0 if velocity < 0 else velocity\n",
    "            velocity = 127 if velocity > 127 else velocity\n",
    "            note.velocity = velocity\n",
    "                                \n",
    "def adjust_time(self, offset):\n",
    "        for note in self.notes:\n",
    "            note.start += offset\n",
    "            note.end += offset\n",
    "            \n",
    "def trim_overlapped_notes(self):\n",
    "    last_notes={}\n",
    "    for i, note in enumerate(self.notes):\n",
    "        if note.pitch in last_notes:\n",
    "            last_note = last_notes[note.pitch]\n",
    "            if note.start - last_note.start <= 0:\n",
    "                last_note.end = max(note.end, last_note.end)\n",
    "                last_note.velocity = max(note.velocity, last_note.velocity)\n",
    "                del self.notes[i]\n",
    "            elif note.start < last_note.end:\n",
    "                last_note.end = note.start\n",
    "        else:\n",
    "            last_notes[note.pitch] = note\n",
    "                        "
   ]
  },
  {
   "cell_type": "code",
   "execution_count": 44,
   "metadata": {},
   "outputs": [],
   "source": [
    "a = '/Users/chengliwei/Project/Conditioning RNN/dataset/midi/001.midi'\n",
    "b = PrettyMIDI(a)"
   ]
  },
  {
   "cell_type": "code",
   "execution_count": 49,
   "metadata": {},
   "outputs": [
    {
     "data": {
      "text/plain": [
       "Instrument(program=128, is_drum=False, name=\"NoteSeq\")"
      ]
     },
     "execution_count": 49,
     "metadata": {},
     "output_type": "execute_result"
    }
   ],
   "source": [
    "Instrument(128, False, 'NoteSeq')"
   ]
  },
  {
   "cell_type": "code",
   "execution_count": null,
   "metadata": {},
   "outputs": [],
   "source": []
  }
 ],
 "metadata": {
  "kernelspec": {
   "display_name": "Python 3",
   "language": "python",
   "name": "python3"
  },
  "language_info": {
   "codemirror_mode": {
    "name": "ipython",
    "version": 3
   },
   "file_extension": ".py",
   "mimetype": "text/x-python",
   "name": "python",
   "nbconvert_exporter": "python",
   "pygments_lexer": "ipython3",
   "version": "3.7.4"
  }
 },
 "nbformat": 4,
 "nbformat_minor": 2
}
